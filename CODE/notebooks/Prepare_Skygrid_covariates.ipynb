{
 "cells": [
  {
   "cell_type": "markdown",
   "metadata": {},
   "source": [
    "In this notebook we'll put together all of the temporal data we have collected in order to use them as covariates for Skygrid, following [Gill et al. (2016)](https://academic.oup.com/sysbio/article/65/6/1041/2281638)."
   ]
  },
  {
   "cell_type": "markdown",
   "metadata": {},
   "source": [
    "### Load production (population)  data"
   ]
  },
  {
   "cell_type": "code",
   "execution_count": 16,
   "metadata": {},
   "outputs": [],
   "source": [
    "production <- read.csv(\"../../DATA/TRADE_DATA/livestock_population_South_America_temporalOnly.csv\")\n",
    "names(production) <- c(\"Year\", paste(\"production_\", names(production[, -1]), sep = \"\"))"
   ]
  },
  {
   "cell_type": "markdown",
   "metadata": {},
   "source": [
    "### Load vaccination data"
   ]
  },
  {
   "cell_type": "code",
   "execution_count": 27,
   "metadata": {},
   "outputs": [],
   "source": [
    "vaccination.raw <- read.csv(\"../../DATA/EPI_DATA/vaccination_temporal_summaries.csv\")\n",
    "vaccination <- data.frame(\n",
    "    Year = vaccination.raw$Year,\n",
    "    doses = vaccination.raw$doses_per_head,\n",
    "    doses_dispersion = vaccination.raw$ci\n",
    ")"
   ]
  },
  {
   "cell_type": "markdown",
   "metadata": {},
   "source": [
    "### Load temporal trade data"
   ]
  },
  {
   "cell_type": "code",
   "execution_count": 25,
   "metadata": {},
   "outputs": [],
   "source": [
    "trade <- read.csv(\"../../DATA/TRADE_DATA/trade_through_time.csv\")\n",
    "names(trade) <- c(\"Year\", paste(\"trade_\", names(trade[, -1]), sep = \"\"))"
   ]
  },
  {
   "cell_type": "markdown",
   "metadata": {},
   "source": [
    "### Load case data"
   ]
  },
  {
   "cell_type": "code",
   "execution_count": 30,
   "metadata": {},
   "outputs": [],
   "source": [
    "cases <- read.table(\"../../DATA/EPI_DATA/cases_FMD.txt\", header = TRUE, sep = \"\\t\")[, 1:3] ## exclude C\n",
    "names(cases) <- c(\"Year\", \"cases_A\", \"cases_O\")"
   ]
  },
  {
   "cell_type": "markdown",
   "metadata": {},
   "source": [
    "## Now let's put this all together"
   ]
  },
  {
   "cell_type": "code",
   "execution_count": 46,
   "metadata": {},
   "outputs": [],
   "source": [
    "all.temporal.predictors <- Reduce(function(x, y) merge(x, y, by = \"Year\", all = TRUE),\n",
    "     list(\n",
    "        production,\n",
    "        vaccination,\n",
    "        trade,\n",
    "        cases\n",
    "    )\n",
    ")"
   ]
  },
  {
   "cell_type": "code",
   "execution_count": 64,
   "metadata": {},
   "outputs": [],
   "source": [
    "write.csv(all.temporal.predictors, file = \"../../DATA/EPI_DATA/temporal_predictors.csv\", row.names = FALSE)"
   ]
  }
 ],
 "metadata": {
  "kernelspec": {
   "display_name": "R 3.5",
   "language": "R",
   "name": "ir35"
  },
  "language_info": {
   "codemirror_mode": "r",
   "file_extension": ".r",
   "mimetype": "text/x-r-source",
   "name": "R",
   "pygments_lexer": "r",
   "version": "3.5.1"
  }
 },
 "nbformat": 4,
 "nbformat_minor": 2
}
