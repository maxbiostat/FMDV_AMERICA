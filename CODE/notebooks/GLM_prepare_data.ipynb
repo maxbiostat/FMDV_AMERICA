{
 "cells": [
  {
   "cell_type": "markdown",
   "metadata": {},
   "source": [
    "Here we'll prepare the data for the GLM analysis."
   ]
  },
  {
   "cell_type": "markdown",
   "metadata": {},
   "source": [
    "## Part 0: preparing the first bit of the data"
   ]
  },
  {
   "cell_type": "code",
   "execution_count": 1,
   "metadata": {},
   "outputs": [
    {
     "name": "stderr",
     "output_type": "stream",
     "text": [
      "Loading required package: sp\n",
      "Checking rgeos availability: FALSE\n",
      " \tNote: when rgeos is not available, polygon geometry \tcomputations in maptools depend on gpclib,\n",
      " \twhich has a restricted licence. It is disabled by default;\n",
      " \tto enable gpclib, type gpclibPermit()\n"
     ]
    }
   ],
   "source": [
    "## Spatial stuff\n",
    "Countries <- c(\"Argentina\", \"Bolivia\", \"Brazil\", \"Chile\", \"Colombia\", \"Ecuador\",\n",
    "               \"Paraguay\", \"Peru\", \"Uruguay\", \"Venezuela\")  \n",
    "library(maptools)\n",
    "data(wrld_simpl)\n",
    "world <- wrld_simpl\n",
    "\n",
    "which.polys <- vector(mode = \"list\", length(Countries))\n",
    "for (c in 1:length(Countries)){\n",
    "  which.polys[[c]] <- grep(paste(Countries[c]), world$NAME)\n",
    "}\n",
    "SA <- world[unlist(which.polys), ]\n",
    "\n",
    "coordsSA <- coordinates(SA)\n",
    "\n",
    "distmat <- fields::rdist.earth(coordsSA, miles = FALSE)\n",
    "bordermat <- spdep::nb2mat(spdep::poly2nb(SA), style = \"B\", zero.policy = TRUE)"
   ]
  },
  {
   "cell_type": "code",
   "execution_count": 2,
   "metadata": {},
   "outputs": [],
   "source": [
    "Trade <- read.csv(\"../../DATA/TRADE_DATA/all_trade_by_period.csv\")"
   ]
  },
  {
   "cell_type": "code",
   "execution_count": 3,
   "metadata": {},
   "outputs": [],
   "source": [
    "## Exporting data set\n",
    "covariates <- data.frame(Trade,\n",
    "                         geodistance = as.vector(distmat),\n",
    "                         borders = as.vector(bordermat))\n",
    "write.csv(covariates, \"../../DATA/TRADE_DATA/trade_and_geo_covariates.csv\", row.names = FALSE)"
   ]
  },
  {
   "cell_type": "code",
   "execution_count": 4,
   "metadata": {},
   "outputs": [
    {
     "data": {
      "text/html": [
       "<table>\n",
       "<thead><tr><th scope=col>from</th><th scope=col>to</th><th scope=col>cattleTrade_1986.1995</th><th scope=col>cattleTrade_1995.2004</th><th scope=col>cattleTrade_2004.2013</th><th scope=col>sheepTrade_1986.1995</th><th scope=col>sheepTrade_1995.2004</th><th scope=col>sheepTrade_2004.2013</th><th scope=col>pigsTrade_1986.1995</th><th scope=col>pigsTrade_1995.2004</th><th scope=col>pigsTrade_2004.2013</th><th scope=col>geodistance</th><th scope=col>borders</th></tr></thead>\n",
       "<tbody>\n",
       "\t<tr><td>Argentina</td><td>Argentina</td><td>     0   </td><td>    0    </td><td>  0      </td><td>   0     </td><td>  0      </td><td>  0      </td><td> 0       </td><td>   0     </td><td>  0      </td><td>   0.000 </td><td>0        </td></tr>\n",
       "\t<tr><td>Argentina</td><td>Bolivia  </td><td> 71256   </td><td>64078    </td><td>960      </td><td> 815     </td><td>151      </td><td>  0      </td><td>97       </td><td>1656     </td><td>300      </td><td>2056.028 </td><td>1        </td></tr>\n",
       "\t<tr><td>Argentina</td><td>Brazil   </td><td>135072   </td><td>21423    </td><td>377      </td><td>1029     </td><td>  0      </td><td>226      </td><td>26       </td><td>   0     </td><td>  0      </td><td>2970.620 </td><td>0        </td></tr>\n",
       "</tbody>\n",
       "</table>\n"
      ],
      "text/latex": [
       "\\begin{tabular}{r|lllllllllllll}\n",
       " from & to & cattleTrade\\_1986.1995 & cattleTrade\\_1995.2004 & cattleTrade\\_2004.2013 & sheepTrade\\_1986.1995 & sheepTrade\\_1995.2004 & sheepTrade\\_2004.2013 & pigsTrade\\_1986.1995 & pigsTrade\\_1995.2004 & pigsTrade\\_2004.2013 & geodistance & borders\\\\\n",
       "\\hline\n",
       "\t Argentina & Argentina &      0    &     0     &   0       &    0      &   0       &   0       &  0        &    0      &   0       &    0.000  & 0        \\\\\n",
       "\t Argentina & Bolivia   &  71256    & 64078     & 960       &  815      & 151       &   0       & 97        & 1656      & 300       & 2056.028  & 1        \\\\\n",
       "\t Argentina & Brazil    & 135072    & 21423     & 377       & 1029      &   0       & 226       & 26        &    0      &   0       & 2970.620  & 0        \\\\\n",
       "\\end{tabular}\n"
      ],
      "text/markdown": [
       "\n",
       "from | to | cattleTrade_1986.1995 | cattleTrade_1995.2004 | cattleTrade_2004.2013 | sheepTrade_1986.1995 | sheepTrade_1995.2004 | sheepTrade_2004.2013 | pigsTrade_1986.1995 | pigsTrade_1995.2004 | pigsTrade_2004.2013 | geodistance | borders | \n",
       "|---|---|---|\n",
       "| Argentina | Argentina |      0    |     0     |   0       |    0      |   0       |   0       |  0        |    0      |   0       |    0.000  | 0         | \n",
       "| Argentina | Bolivia   |  71256    | 64078     | 960       |  815      | 151       |   0       | 97        | 1656      | 300       | 2056.028  | 1         | \n",
       "| Argentina | Brazil    | 135072    | 21423     | 377       | 1029      |   0       | 226       | 26        |    0      |   0       | 2970.620  | 0         | \n",
       "\n",
       "\n"
      ],
      "text/plain": [
       "  from      to        cattleTrade_1986.1995 cattleTrade_1995.2004\n",
       "1 Argentina Argentina      0                    0                \n",
       "2 Argentina Bolivia    71256                64078                \n",
       "3 Argentina Brazil    135072                21423                \n",
       "  cattleTrade_2004.2013 sheepTrade_1986.1995 sheepTrade_1995.2004\n",
       "1   0                      0                   0                 \n",
       "2 960                    815                 151                 \n",
       "3 377                   1029                   0                 \n",
       "  sheepTrade_2004.2013 pigsTrade_1986.1995 pigsTrade_1995.2004\n",
       "1   0                   0                     0               \n",
       "2   0                  97                  1656               \n",
       "3 226                  26                     0               \n",
       "  pigsTrade_2004.2013 geodistance borders\n",
       "1   0                    0.000    0      \n",
       "2 300                 2056.028    1      \n",
       "3   0                 2970.620    0      "
      ]
     },
     "metadata": {},
     "output_type": "display_data"
    }
   ],
   "source": [
    "head(covariates, 3)"
   ]
  },
  {
   "cell_type": "markdown",
   "metadata": {},
   "source": [
    "### Part 1: process sequence meta data and add more predictors\n",
    "So we have the trade variables, distance and borders. Now let's chuck the sequence differences in"
   ]
  },
  {
   "cell_type": "code",
   "execution_count": 5,
   "metadata": {},
   "outputs": [],
   "source": [
    "### Sequence meta data\n",
    "meta.A <- read.csv(\"../../DATA/SEQUENCES/data_acquisition/serotype_A_SA_metadata_final.csv\")\n",
    "meta.O <- read.csv(\"../../DATA/SEQUENCES/data_acquisition/serotype_O_SA_metadata_final.csv\")"
   ]
  },
  {
   "cell_type": "code",
   "execution_count": 6,
   "metadata": {},
   "outputs": [],
   "source": [
    "tabA <- table(meta.A$country)\n",
    "write.csv ( data.frame(country = names(tabA), samples = as.numeric(tabA) ),\n",
    "           \"../../DATA/XML/glm/serotype_A/predictors_A/samples_A.csv\", row.names = FALSE, quote = FALSE)"
   ]
  },
  {
   "cell_type": "code",
   "execution_count": 7,
   "metadata": {},
   "outputs": [],
   "source": [
    "tabO <- table(meta.O$country)\n",
    "write.csv ( data.frame(country = names(tabO), samples = as.numeric(tabO) ),\n",
    "           \"../../DATA/XML/glm/serotype_O/predictors_O/samples_O.csv\", row.names = FALSE, quote = FALSE)"
   ]
  },
  {
   "cell_type": "code",
   "execution_count": 8,
   "metadata": {},
   "outputs": [],
   "source": [
    "difference <- function(x) abs(x[1] - x[2])\n",
    "make_fromTo_df <- function(x, name, FUN = difference){\n",
    "    inds <- seq_along(x)\n",
    "    Names <- names(x)\n",
    "    if(is.null(names(x))) Names <- paste(\"obs_\", inds, sep = \"\")\n",
    "    Grid <- expand.grid(inds, inds)\n",
    "    lst <- lapply(seq_len(nrow(Grid)), function(i) {\n",
    "        res <- data.frame(\n",
    "            Names[Grid[i, 1]],\n",
    "            Names[Grid[i, 2]],\n",
    "            FUN(c(x[Grid[i, 1]], x[Grid[i, 2]])) \n",
    "        )\n",
    "        names(res) <- c(\"from\", \"to\", name)\n",
    "        return(res)\n",
    "    } )\n",
    "    final <- do.call(rbind, lst)\n",
    "    return(final)\n",
    "}"
   ]
  },
  {
   "cell_type": "code",
   "execution_count": 9,
   "metadata": {},
   "outputs": [],
   "source": [
    "difference.number.seqs.A <- make_fromTo_df(x = table(meta.A$country), name = \"diff_seqs_A\", FUN = difference)\n",
    "product.number.seqs.A <- make_fromTo_df(x = table(meta.A$country), name = \"prod_seqs_A\", FUN = prod)\n",
    "seq.info.A <- merge(difference.number.seqs.A, product.number.seqs.A, by = c(\"from\", \"to\"))\n",
    "seq.info.A$prod_seqs_A[which(seq.info.A$from == seq.info.A$to)] <- 0"
   ]
  },
  {
   "cell_type": "code",
   "execution_count": 11,
   "metadata": {},
   "outputs": [],
   "source": [
    "difference.number.seqs.O <- make_fromTo_df(x = table(meta.O$country), name = \"diff_seqs_O\", FUN = difference)\n",
    "product.number.seqs.O <- make_fromTo_df(x = table(meta.O$country), name = \"prod_seqs_O\", FUN = prod)\n",
    "seq.info.O <- merge(difference.number.seqs.O, product.number.seqs.O, by = c(\"from\", \"to\"))\n",
    "seq.info.O$prod_seqs_O[which(seq.info.O$from == seq.info.O$to)] <- 0"
   ]
  },
  {
   "cell_type": "code",
   "execution_count": 15,
   "metadata": {},
   "outputs": [],
   "source": [
    "all.info.A <- merge(covariates, seq.info.A, by = c(\"from\", \"to\"), all.x = TRUE)\n",
    "all.info.O <- merge(covariates, seq.info.O, by = c(\"from\", \"to\"), all.x = TRUE)"
   ]
  },
  {
   "cell_type": "markdown",
   "metadata": {},
   "source": [
    " ### Part 2: Export predictor matrices"
   ]
  },
  {
   "cell_type": "code",
   "execution_count": 56,
   "metadata": {},
   "outputs": [],
   "source": [
    "Countries <- c(\"Argentina\", \"Bolivia\", \"Brazil\",\n",
    "               \"Colombia\", \"Ecuador\",\n",
    "#                \"Paraguay\",\n",
    "               \"Peru\", \"Uruguay\", \"Venezuela\")  "
   ]
  },
  {
   "cell_type": "code",
   "execution_count": 57,
   "metadata": {},
   "outputs": [],
   "source": [
    "makeMatrix <- function(x, k, name){\n",
    "  if(length(x) != k^2) stop(\"data does not appear to be a flattened square matrix\")\n",
    "  m <- matrix(x, ncol = k, nrow = k)\n",
    "  diag(m) <- 1\n",
    "  colnames(m) <- rownames(m) <- Countries\n",
    "  dt <- data.frame(x = Countries, m)\n",
    "  names(dt) <- c(name, Countries)\n",
    "  return(dt)\n",
    "}"
   ]
  },
  {
   "cell_type": "code",
   "execution_count": 58,
   "metadata": {},
   "outputs": [],
   "source": [
    "forExpo.A <- na.omit( all.info.A[, -c(1:2)] ) + 1\n",
    "forExpo.A$borders <- forExpo.A$borders - 1"
   ]
  },
  {
   "cell_type": "code",
   "execution_count": 60,
   "metadata": {},
   "outputs": [
    {
     "data": {
      "text/html": [
       "<ol>\n",
       "\t<li>NULL</li>\n",
       "\t<li>NULL</li>\n",
       "\t<li>NULL</li>\n",
       "\t<li>NULL</li>\n",
       "\t<li>NULL</li>\n",
       "\t<li>NULL</li>\n",
       "\t<li>NULL</li>\n",
       "\t<li>NULL</li>\n",
       "\t<li>NULL</li>\n",
       "\t<li>NULL</li>\n",
       "\t<li>NULL</li>\n",
       "\t<li>NULL</li>\n",
       "\t<li>NULL</li>\n",
       "</ol>\n"
      ],
      "text/latex": [
       "\\begin{enumerate}\n",
       "\\item NULL\n",
       "\\item NULL\n",
       "\\item NULL\n",
       "\\item NULL\n",
       "\\item NULL\n",
       "\\item NULL\n",
       "\\item NULL\n",
       "\\item NULL\n",
       "\\item NULL\n",
       "\\item NULL\n",
       "\\item NULL\n",
       "\\item NULL\n",
       "\\item NULL\n",
       "\\end{enumerate}\n"
      ],
      "text/markdown": [
       "1. NULL\n",
       "2. NULL\n",
       "3. NULL\n",
       "4. NULL\n",
       "5. NULL\n",
       "6. NULL\n",
       "7. NULL\n",
       "8. NULL\n",
       "9. NULL\n",
       "10. NULL\n",
       "11. NULL\n",
       "12. NULL\n",
       "13. NULL\n",
       "\n",
       "\n"
      ],
      "text/plain": [
       "[[1]]\n",
       "NULL\n",
       "\n",
       "[[2]]\n",
       "NULL\n",
       "\n",
       "[[3]]\n",
       "NULL\n",
       "\n",
       "[[4]]\n",
       "NULL\n",
       "\n",
       "[[5]]\n",
       "NULL\n",
       "\n",
       "[[6]]\n",
       "NULL\n",
       "\n",
       "[[7]]\n",
       "NULL\n",
       "\n",
       "[[8]]\n",
       "NULL\n",
       "\n",
       "[[9]]\n",
       "NULL\n",
       "\n",
       "[[10]]\n",
       "NULL\n",
       "\n",
       "[[11]]\n",
       "NULL\n",
       "\n",
       "[[12]]\n",
       "NULL\n",
       "\n",
       "[[13]]\n",
       "NULL\n"
      ]
     },
     "metadata": {},
     "output_type": "display_data"
    }
   ],
   "source": [
    "VarNames <-  colnames(forExpo.A)\n",
    "Dts.A <- lapply(1:ncol(forExpo.A), function(i) makeMatrix(x = forExpo.A[, i],\n",
    "                                                          k = length(Countries) , name = VarNames[i]))\n",
    "\n",
    "lapply(1:ncol(forExpo.A), function(i){\n",
    "      write.csv(Dts.A[[i]],\n",
    "                file = paste(\"../../DATA/XML/glm/serotype_A/predictors_A/\", VarNames[i], \".csv\", sep = \"\"),\n",
    "                row.names = FALSE, quote = FALSE)\n",
    "    }\n",
    ")"
   ]
  },
  {
   "cell_type": "code",
   "execution_count": 61,
   "metadata": {},
   "outputs": [],
   "source": [
    "Countries <- c(\"Argentina\", \"Bolivia\", \"Brazil\",\n",
    "               \"Colombia\", \"Ecuador\",\n",
    "               \"Paraguay\",\n",
    "               \"Peru\", \"Uruguay\", \"Venezuela\") "
   ]
  },
  {
   "cell_type": "code",
   "execution_count": 62,
   "metadata": {},
   "outputs": [],
   "source": [
    "forExpo.O <- na.omit( all.info.O[, -c(1:2)] ) + 1\n",
    "forExpo.O$borders <- forExpo.O$borders - 1"
   ]
  },
  {
   "cell_type": "code",
   "execution_count": 63,
   "metadata": {},
   "outputs": [
    {
     "data": {
      "text/html": [
       "<ol>\n",
       "\t<li>NULL</li>\n",
       "\t<li>NULL</li>\n",
       "\t<li>NULL</li>\n",
       "\t<li>NULL</li>\n",
       "\t<li>NULL</li>\n",
       "\t<li>NULL</li>\n",
       "\t<li>NULL</li>\n",
       "\t<li>NULL</li>\n",
       "\t<li>NULL</li>\n",
       "\t<li>NULL</li>\n",
       "\t<li>NULL</li>\n",
       "\t<li>NULL</li>\n",
       "\t<li>NULL</li>\n",
       "</ol>\n"
      ],
      "text/latex": [
       "\\begin{enumerate}\n",
       "\\item NULL\n",
       "\\item NULL\n",
       "\\item NULL\n",
       "\\item NULL\n",
       "\\item NULL\n",
       "\\item NULL\n",
       "\\item NULL\n",
       "\\item NULL\n",
       "\\item NULL\n",
       "\\item NULL\n",
       "\\item NULL\n",
       "\\item NULL\n",
       "\\item NULL\n",
       "\\end{enumerate}\n"
      ],
      "text/markdown": [
       "1. NULL\n",
       "2. NULL\n",
       "3. NULL\n",
       "4. NULL\n",
       "5. NULL\n",
       "6. NULL\n",
       "7. NULL\n",
       "8. NULL\n",
       "9. NULL\n",
       "10. NULL\n",
       "11. NULL\n",
       "12. NULL\n",
       "13. NULL\n",
       "\n",
       "\n"
      ],
      "text/plain": [
       "[[1]]\n",
       "NULL\n",
       "\n",
       "[[2]]\n",
       "NULL\n",
       "\n",
       "[[3]]\n",
       "NULL\n",
       "\n",
       "[[4]]\n",
       "NULL\n",
       "\n",
       "[[5]]\n",
       "NULL\n",
       "\n",
       "[[6]]\n",
       "NULL\n",
       "\n",
       "[[7]]\n",
       "NULL\n",
       "\n",
       "[[8]]\n",
       "NULL\n",
       "\n",
       "[[9]]\n",
       "NULL\n",
       "\n",
       "[[10]]\n",
       "NULL\n",
       "\n",
       "[[11]]\n",
       "NULL\n",
       "\n",
       "[[12]]\n",
       "NULL\n",
       "\n",
       "[[13]]\n",
       "NULL\n"
      ]
     },
     "metadata": {},
     "output_type": "display_data"
    }
   ],
   "source": [
    "VarNames <-  colnames(forExpo.O)\n",
    "Dts.O <- lapply(1:ncol(forExpo.O), function(i) makeMatrix(x = forExpo.O[, i],\n",
    "                                                          k = length(Countries) , name = VarNames[i]))\n",
    "\n",
    "lapply(1:ncol(forExpo.O), function(i){\n",
    "      write.csv(Dts.O[[i]],\n",
    "                file = paste(\"../../DATA/XML/glm/serotype_O/predictors_O/\", VarNames[i], \".csv\", sep = \"\"),\n",
    "                row.names = FALSE, quote = FALSE)\n",
    "    }\n",
    ")"
   ]
  }
 ],
 "metadata": {
  "kernelspec": {
   "display_name": "R 3.5",
   "language": "R",
   "name": "ir35"
  },
  "language_info": {
   "codemirror_mode": "r",
   "file_extension": ".r",
   "mimetype": "text/x-r-source",
   "name": "R",
   "pygments_lexer": "r",
   "version": "3.5.1"
  }
 },
 "nbformat": 4,
 "nbformat_minor": 2
}
