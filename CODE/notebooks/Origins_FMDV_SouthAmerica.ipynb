{
 "cells": [
  {
   "cell_type": "markdown",
   "metadata": {},
   "source": [
    "This script will produce the plots presented in the main text. We will summarise and plot the results of the \"Epidemic tracing\" analysis . This script modifies R code by Matthew Hall (BDI, Oxford) to analyse the output of BEAST tools [BranchJumpPlotter.java](https://github.com/beast-dev/beast-mcmc/blob/master/src/dr/app/tools/BranchJumpPlotter.java) and [TaxaOriginTrait.java](https://github.com/beast-dev/beast-mcmc/blob/master/src/dr/app/tools/TaxaOriginTrait.java), also by Matthew! Hence, thanks a lot, Matthew! ;-)\n",
    "\n",
    "The machinery to generate the data can be found in [origin_counting.sh](https://github.com/maxbiostat/FMDV_AMERICA/blob/master/CODE/origin_counting.sh)."
   ]
  },
  {
   "cell_type": "code",
   "execution_count": 1,
   "metadata": {},
   "outputs": [],
   "source": [
    "library(plotrix)\n",
    "#\n",
    "getStates <- function(rnames, fullnames){\n",
    "  fullnames[as.numeric(sapply(rnames, function(s) grep(s, fullnames, ignore.case = TRUE)))]  \n",
    "}\n",
    "#\n",
    "plotJumpstbl <- function(tbl,  graphTitle, fullnames, groupLimit = .05, colour = \"cadetblue\", export = TRUE){\n",
    "  noTrees <- sum(tbl[, 1])\n",
    "  column3 <- tbl[,1]/noTrees\n",
    "  tbl <- cbind(tbl, column3)\n",
    "  to.drop <- numeric(length = nrow(tbl))\n",
    "  tbl <- cbind(tbl, to.drop)\n",
    "  \n",
    "  other.or.none.n <- 0\n",
    "  other.or.none.d <- 0\n",
    "  \n",
    "  for(row in 1:nrow(tbl)){\n",
    "    if(tbl[row, 2] < groupLimit){\n",
    "      other.or.none.n <- other.or.none.n + tbl[row, 1]\n",
    "      other.or.none.d <- other.or.none.d + tbl[row, 2]\n",
    "      tbl[row, 3] <- 1 \n",
    "    }\n",
    "  }\n",
    "  \n",
    "  tbl <- tbl[tbl[, 3]==0, ]  \n",
    "  tbl <- tbl[order(tbl[, 2]), ]  \n",
    "  end.row <- c(other.or.none.n, other.or.none.d)\n",
    "  tbl <- rbind(end.row,tbl)\n",
    "  rownames(tbl)[1] <- \"Other\"\n",
    "  row.names(tbl) <- getStates(row.names(tbl), fullnames)\n",
    "  if(export){\n",
    "      graphName <- gsub(\" \", \"_\", graphTitle)\n",
    "   pdf(paste(\"../../FIGURES/PLOTS/Origins_\", graphName, \".pdf\", sep = \"\")) \n",
    "  }\n",
    "  par(mar = c(5.1, 12, 4.1, 1.8))\n",
    "  bp <- barplot(as.numeric(tbl[, 2]), names.arg = row.names(tbl), xlim = c(0, 1.1),\n",
    "                horiz = TRUE, xaxt=\"n\", cex.lab = 1.5, cex.axis = 1.5, cex.names = 1.5,\n",
    "                las = 1, col = colour, xlab = \"Posterior probability\", ylab = \"Origin of virus\\n\\n\\n\\n\")\n",
    "  print(bp)\n",
    "  mtext(graphTitle, side = 3, at = getFigCtr()[1], line = 0.8, cex = 2)\n",
    "  axis(1, seq(0, 1, by = 0.25), cex.axis = 1.5)\n",
    "  text(tbl[, 2] + groupLimit, bp, round(as.numeric(tbl[, 2]), digits = 2), adj = 0, cex = 1.5)\n",
    "  if(export){\n",
    "    dev.off()  \n",
    "  }  \n",
    "}"
   ]
  },
  {
   "cell_type": "code",
   "execution_count": 2,
   "metadata": {},
   "outputs": [],
   "source": [
    "states <- c(\"Argentina\", \"Bolivia\", \"Brazil\", \"Colombia\", \"Ecuador\", \"Paraguay\",\n",
    "            \"Peru\", \"Venezuela\", \"Uruguay\", \"Multiple\", \"Other\", \"Root\") "
   ]
  },
  {
   "cell_type": "markdown",
   "metadata": {},
   "source": [
    "## Serotype A"
   ]
  },
  {
   "cell_type": "code",
   "execution_count": 3,
   "metadata": {},
   "outputs": [],
   "source": [
    "A_Arg2001_early <- read.table(\"../../DATA/BEAST_OUTPUT/A_Arg_early_2001.csv\",\n",
    "                              row.names = 1, sep = \",\", header = FALSE)\n",
    "A_Arg2001_late <- read.table(\"../../DATA/BEAST_OUTPUT/A_Arg_late_2001.csv\",\n",
    "                              row.names = 1, sep = \",\", header = FALSE)\n",
    "A_Bol2001 <- read.table(\"../../DATA/BEAST_OUTPUT/A_Bol_2001.csv\",\n",
    "                        row.names = 1, sep = \",\", header = FALSE)\n",
    "A_Bra2001 <- read.table(\"../../DATA/BEAST_OUTPUT/A_Bra_2001.csv\",\n",
    "                        row.names = 1, sep = \",\", header = FALSE)\n",
    "A_Uru2001 <- read.table(\"../../DATA/BEAST_OUTPUT/A_Uru_2001.csv\",\n",
    "                        row.names = 1, sep = \",\", header = FALSE)\n",
    "A_Ecu2002 <- read.table(\"../../DATA/BEAST_OUTPUT/A_Ecu_2002.csv\",\n",
    "                        row.names = 1, sep = \",\", header = FALSE)\n",
    "A_Col2008 <- read.table(\"../../DATA/BEAST_OUTPUT/A_Col_2008.csv\",\n",
    "                        row.names = 1, sep = \",\", header = FALSE)"
   ]
  },
  {
   "cell_type": "code",
   "execution_count": 4,
   "metadata": {},
   "outputs": [
    {
     "name": "stdout",
     "output_type": "stream",
     "text": [
      "     [,1]\n",
      "[1,]  0.7\n",
      "[2,]  1.9\n",
      "[3,]  3.1\n"
     ]
    },
    {
     "data": {
      "text/html": [
       "<strong>png:</strong> 2"
      ],
      "text/latex": [
       "\\textbf{png:} 2"
      ],
      "text/markdown": [
       "**png:** 2"
      ],
      "text/plain": [
       "png \n",
       "  2 "
      ]
     },
     "metadata": {},
     "output_type": "display_data"
    }
   ],
   "source": [
    "plotJumpstbl(A_Arg2001_early, graphTitle = \"A Argentina early 2001\", fullnames = states)"
   ]
  },
  {
   "cell_type": "code",
   "execution_count": 5,
   "metadata": {},
   "outputs": [
    {
     "name": "stdout",
     "output_type": "stream",
     "text": [
      "     [,1]\n",
      "[1,]  0.7\n",
      "[2,]  1.9\n",
      "[3,]  3.1\n"
     ]
    },
    {
     "data": {
      "text/html": [
       "<strong>png:</strong> 2"
      ],
      "text/latex": [
       "\\textbf{png:} 2"
      ],
      "text/markdown": [
       "**png:** 2"
      ],
      "text/plain": [
       "png \n",
       "  2 "
      ]
     },
     "metadata": {},
     "output_type": "display_data"
    }
   ],
   "source": [
    "plotJumpstbl(A_Arg2001_late, graphTitle = \"A Argentina late 2001\", fullnames = states)"
   ]
  },
  {
   "cell_type": "code",
   "execution_count": 6,
   "metadata": {},
   "outputs": [
    {
     "name": "stdout",
     "output_type": "stream",
     "text": [
      "     [,1]\n",
      "[1,]  0.7\n",
      "[2,]  1.9\n",
      "[3,]  3.1\n",
      "[4,]  4.3\n"
     ]
    },
    {
     "data": {
      "text/html": [
       "<strong>png:</strong> 2"
      ],
      "text/latex": [
       "\\textbf{png:} 2"
      ],
      "text/markdown": [
       "**png:** 2"
      ],
      "text/plain": [
       "png \n",
       "  2 "
      ]
     },
     "metadata": {},
     "output_type": "display_data"
    }
   ],
   "source": [
    "plotJumpstbl(A_Bol2001, graphTitle = \"A Bolivia 2001\", fullnames = states)"
   ]
  },
  {
   "cell_type": "code",
   "execution_count": 7,
   "metadata": {},
   "outputs": [
    {
     "name": "stdout",
     "output_type": "stream",
     "text": [
      "     [,1]\n",
      "[1,]  0.7\n",
      "[2,]  1.9\n"
     ]
    },
    {
     "data": {
      "text/html": [
       "<strong>png:</strong> 2"
      ],
      "text/latex": [
       "\\textbf{png:} 2"
      ],
      "text/markdown": [
       "**png:** 2"
      ],
      "text/plain": [
       "png \n",
       "  2 "
      ]
     },
     "metadata": {},
     "output_type": "display_data"
    }
   ],
   "source": [
    "plotJumpstbl(A_Bra2001, graphTitle = \"A Brazil 2001\", fullnames = states)"
   ]
  },
  {
   "cell_type": "code",
   "execution_count": 8,
   "metadata": {},
   "outputs": [
    {
     "name": "stdout",
     "output_type": "stream",
     "text": [
      "     [,1]\n",
      "[1,]  0.7\n",
      "[2,]  1.9\n",
      "[3,]  3.1\n"
     ]
    },
    {
     "data": {
      "text/html": [
       "<strong>png:</strong> 2"
      ],
      "text/latex": [
       "\\textbf{png:} 2"
      ],
      "text/markdown": [
       "**png:** 2"
      ],
      "text/plain": [
       "png \n",
       "  2 "
      ]
     },
     "metadata": {},
     "output_type": "display_data"
    }
   ],
   "source": [
    "plotJumpstbl(A_Uru2001, graphTitle = \"A Uruguay 2001\", fullnames = states)"
   ]
  },
  {
   "cell_type": "code",
   "execution_count": 9,
   "metadata": {},
   "outputs": [
    {
     "name": "stdout",
     "output_type": "stream",
     "text": [
      "     [,1]\n",
      "[1,]  0.7\n",
      "[2,]  1.9\n",
      "[3,]  3.1\n",
      "[4,]  4.3\n",
      "[5,]  5.5\n"
     ]
    },
    {
     "data": {
      "text/html": [
       "<strong>png:</strong> 2"
      ],
      "text/latex": [
       "\\textbf{png:} 2"
      ],
      "text/markdown": [
       "**png:** 2"
      ],
      "text/plain": [
       "png \n",
       "  2 "
      ]
     },
     "metadata": {},
     "output_type": "display_data"
    }
   ],
   "source": [
    "plotJumpstbl(A_Ecu2002, graphTitle = \"A Ecuador 2002\", fullnames = states)"
   ]
  },
  {
   "cell_type": "code",
   "execution_count": 10,
   "metadata": {},
   "outputs": [
    {
     "name": "stdout",
     "output_type": "stream",
     "text": [
      "     [,1]\n",
      "[1,]  0.7\n",
      "[2,]  1.9\n"
     ]
    },
    {
     "data": {
      "text/html": [
       "<strong>png:</strong> 2"
      ],
      "text/latex": [
       "\\textbf{png:} 2"
      ],
      "text/markdown": [
       "**png:** 2"
      ],
      "text/plain": [
       "png \n",
       "  2 "
      ]
     },
     "metadata": {},
     "output_type": "display_data"
    }
   ],
   "source": [
    "plotJumpstbl(A_Col2008, graphTitle = \"A Colombia 2008\", fullnames = states)"
   ]
  },
  {
   "cell_type": "markdown",
   "metadata": {},
   "source": [
    "## Serotype O"
   ]
  },
  {
   "cell_type": "code",
   "execution_count": 11,
   "metadata": {},
   "outputs": [],
   "source": [
    "O_Ecu2002 <- read.table(\"../../DATA/BEAST_OUTPUT/O_Ecu_2002.csv\",\n",
    "                        row.names = 1, sep = \",\", header = FALSE)\n",
    "O_Col1994 <- read.table(\"../../DATA/BEAST_OUTPUT/O_Col_1994.csv\",\n",
    "                        row.names = 1, sep = \",\", header = FALSE)\n",
    "O_Ven2003 <- read.table(\"../../DATA/BEAST_OUTPUT/O_Ven_2003.csv\",\n",
    "                        row.names = 1, sep = \",\", header = FALSE)\n",
    "O_Per2008 <- read.table(\"../../DATA/BEAST_OUTPUT/O_Per_2008.csv\",\n",
    "                        row.names = 1, sep = \",\", header = FALSE)\n",
    "O_Par2011 <- read.table(\"../../DATA/BEAST_OUTPUT/O_Par_2011.csv\",\n",
    "                        row.names = 1, sep = \",\", header = FALSE)"
   ]
  },
  {
   "cell_type": "code",
   "execution_count": 12,
   "metadata": {},
   "outputs": [
    {
     "name": "stdout",
     "output_type": "stream",
     "text": [
      "     [,1]\n",
      "[1,]  0.7\n",
      "[2,]  1.9\n"
     ]
    },
    {
     "data": {
      "text/html": [
       "<strong>png:</strong> 2"
      ],
      "text/latex": [
       "\\textbf{png:} 2"
      ],
      "text/markdown": [
       "**png:** 2"
      ],
      "text/plain": [
       "png \n",
       "  2 "
      ]
     },
     "metadata": {},
     "output_type": "display_data"
    }
   ],
   "source": [
    "plotJumpstbl(O_Ecu2002, graphTitle = \"O Ecuador 2002\", fullnames = states, colour = \"indianred\")"
   ]
  },
  {
   "cell_type": "code",
   "execution_count": 13,
   "metadata": {},
   "outputs": [
    {
     "name": "stdout",
     "output_type": "stream",
     "text": [
      "     [,1]\n",
      "[1,]  0.7\n",
      "[2,]  1.9\n",
      "[3,]  3.1\n"
     ]
    },
    {
     "data": {
      "text/html": [
       "<strong>png:</strong> 2"
      ],
      "text/latex": [
       "\\textbf{png:} 2"
      ],
      "text/markdown": [
       "**png:** 2"
      ],
      "text/plain": [
       "png \n",
       "  2 "
      ]
     },
     "metadata": {},
     "output_type": "display_data"
    }
   ],
   "source": [
    "plotJumpstbl(O_Col1994, graphTitle = \"O Colombia 1994\", fullnames = states, colour = \"indianred\")"
   ]
  },
  {
   "cell_type": "code",
   "execution_count": 29,
   "metadata": {},
   "outputs": [
    {
     "name": "stdout",
     "output_type": "stream",
     "text": [
      "     [,1]\n",
      "[1,]  0.7\n",
      "[2,]  1.9\n",
      "[3,]  3.1\n",
      "[4,]  4.3\n"
     ]
    },
    {
     "data": {
      "text/html": [
       "<strong>png:</strong> 2"
      ],
      "text/latex": [
       "\\textbf{png:} 2"
      ],
      "text/markdown": [
       "**png:** 2"
      ],
      "text/plain": [
       "png \n",
       "  2 "
      ]
     },
     "metadata": {},
     "output_type": "display_data"
    }
   ],
   "source": [
    "plotJumpstbl(O_Ven2003, graphTitle = \"O Venezuela 2003\", fullnames = states, colour = \"indianred\")"
   ]
  },
  {
   "cell_type": "code",
   "execution_count": 15,
   "metadata": {},
   "outputs": [
    {
     "name": "stdout",
     "output_type": "stream",
     "text": [
      "     [,1]\n",
      "[1,]  0.7\n",
      "[2,]  1.9\n"
     ]
    },
    {
     "data": {
      "text/html": [
       "<strong>png:</strong> 2"
      ],
      "text/latex": [
       "\\textbf{png:} 2"
      ],
      "text/markdown": [
       "**png:** 2"
      ],
      "text/plain": [
       "png \n",
       "  2 "
      ]
     },
     "metadata": {},
     "output_type": "display_data"
    }
   ],
   "source": [
    "plotJumpstbl(O_Per2008, graphTitle = \"O Peru 2008\", fullnames = states, colour = \"indianred\")"
   ]
  },
  {
   "cell_type": "code",
   "execution_count": 30,
   "metadata": {},
   "outputs": [
    {
     "name": "stdout",
     "output_type": "stream",
     "text": [
      "     [,1]\n",
      "[1,]  0.7\n",
      "[2,]  1.9\n",
      "[3,]  3.1\n",
      "[4,]  4.3\n"
     ]
    },
    {
     "data": {
      "text/html": [
       "<strong>png:</strong> 2"
      ],
      "text/latex": [
       "\\textbf{png:} 2"
      ],
      "text/markdown": [
       "**png:** 2"
      ],
      "text/plain": [
       "png \n",
       "  2 "
      ]
     },
     "metadata": {},
     "output_type": "display_data"
    }
   ],
   "source": [
    "plotJumpstbl(O_Par2011, graphTitle = \"O Paraguay 2011\", fullnames = states, colour = \"indianred\")"
   ]
  }
 ],
 "metadata": {
  "kernelspec": {
   "display_name": "R 3.5",
   "language": "R",
   "name": "ir35"
  },
  "language_info": {
   "codemirror_mode": "r",
   "file_extension": ".r",
   "mimetype": "text/x-r-source",
   "name": "R",
   "pygments_lexer": "r",
   "version": "3.5.1"
  }
 },
 "nbformat": 4,
 "nbformat_minor": 2
}
